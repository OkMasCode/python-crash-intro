{
 "cells": [
  {
   "cell_type": "markdown",
   "metadata": {},
   "source": [
    "# Python Classes and Objects (Homeworks)"
   ]
  },
  {
   "cell_type": "markdown",
   "metadata": {},
   "source": [
    "# Exercise 1"
   ]
  },
  {
   "cell_type": "markdown",
   "metadata": {},
   "source": [
    "- Write a Python program to create a Person class.\n",
    "- Required attributes: name, nationality, and date of birth. \n",
    "- Implement a method to determine the person’s age, returning the person's age. "
   ]
  },
  {
   "cell_type": "code",
   "execution_count": 19,
   "metadata": {},
   "outputs": [
    {
     "name": "stdout",
     "output_type": "stream",
     "text": [
      "24\n"
     ]
    }
   ],
   "source": [
    "import datetime\n",
    "import math\n",
    "class person:\n",
    "    def __init__(self, name, nationality, dob):\n",
    "        self.name = name\n",
    "        self.nationality = nationality\n",
    "        self.dob = dob\n",
    "    def __str__(self):\n",
    "        return f\"the name is {self.name}, the nationality is {self.nationality} and the date of birth is {self.dob}\"\n",
    "    def age(self):\n",
    "        difference = datetime.date.today()-self.dob\n",
    "        return math.trunc(difference.days / 365.25)\n",
    "\n",
    "jhon = person(\"Jhon Malone\", \"American\", datetime.date(2000, 10, 2))\n",
    "\n",
    "age = jhon.age()\n",
    "print(age)\n"
   ]
  },
  {
   "cell_type": "markdown",
   "metadata": {},
   "source": [
    "# Exercise 2"
   ]
  },
  {
   "cell_type": "markdown",
   "metadata": {},
   "source": [
    "- Define a Passenger class that inherit from the Person class defined in Exercise 1.\n",
    "- Required attributes: name, nationality, date of birth (using the super() function), departure country, arrival country, flight code, and seat.\n",
    "- Add a method to print the flight information (departure, arrival, flight and seat)\n",
    "- Add a method to check that the departure country is equal to the nationality of the country, and return a boolean variable accordingly.\n",
    "- Add a method to check that the passenger has a seat number different from [14,15] if younger than 18 years old. If this condition is met, change the passenger seat attribute with a suitable number (between 1 and 32) and return it."
   ]
  },
  {
   "cell_type": "code",
   "execution_count": 21,
   "metadata": {},
   "outputs": [
    {
     "name": "stdout",
     "output_type": "stream",
     "text": [
      "Jhon Malone  has departed from  England  on the flight  23412  and on seat  15\n",
      "False\n",
      "23\n",
      "Jhon Malone  has departed from  England  on the flight  23412  and on seat  23\n"
     ]
    }
   ],
   "source": [
    "class passenger(person):\n",
    "    def __init__(self, name, nationality, dob, dep_country, arr_country, flight_code, seat):\n",
    "        super().__init__(name, nationality, dob)\n",
    "        self.dep_country = dep_country\n",
    "        self.arr_country = arr_country\n",
    "        self.flight_code = flight_code\n",
    "        self.seat = seat\n",
    "\n",
    "    def flight_info(self):\n",
    "        print(self.name, \" has departed from \", self.dep_country, \" on the flight \", self.flight_code, \" and on seat \", self.seat)\n",
    "\n",
    "    def check_dep(self):\n",
    "        return self.dep_country == self.arr_country\n",
    "    \n",
    "    def check_seat(self):\n",
    "        if self.age() <= 18:\n",
    "            if self.seat == 14 | self.seat == 15:\n",
    "                self.seat = 23\n",
    "        return self.seat\n",
    "    \n",
    "mark = passenger(\"Jhon Malone\", \"American\", datetime.date(2010, 10, 2), \"England\", \"Japan\", 23412, 15)\n",
    "\n",
    "mark.flight_info()\n",
    "print(mark.check_dep())\n",
    "print(mark.check_seat())\n",
    "mark.flight_info()\n"
   ]
  },
  {
   "cell_type": "markdown",
   "metadata": {},
   "source": [
    "# Exercise 3"
   ]
  },
  {
   "cell_type": "markdown",
   "metadata": {},
   "source": [
    "- Write a Bank class with a customers attribute in dictionary form. The dictionary of customers should have the keys: account_number, credit.\n",
    "- Implement a method to create an account for a new customers with a given account number, checking if it already exists in the bank and assigning it an initial balance (to be passed or set to 0 as default)\n",
    "- Implement a method to update the credit of a customer (identified by its account number) when a deposit is performed. First check if the customers is present in the customers already registered. If not, communicate to perform an account registration before depositing money.\n",
    "- Implement a method to update the available credit of the customers when it withdraw money. First check if the customers is present in the customers already registered. If not, negate the operation.\n",
    "- Implement a method to compute the total credit of the clients present in the bank"
   ]
  },
  {
   "cell_type": "code",
   "execution_count": 27,
   "metadata": {},
   "outputs": [
    {
     "name": "stdout",
     "output_type": "stream",
     "text": [
      "The customer already has an account\n",
      "the customer  2468  has been added with a credit of  5000\n",
      "{'acc_num': [1234, 5678, 9101, 1357, 2468], 'cred': [12000, 100000, 2, 45, 5000]}\n",
      "The deposit of  200  euros has been made. The client  2468  now has a credit of  5200\n",
      "The client does not have an account\n",
      "The withdraw of  10000  euros has been made. The client  1234  now has a credit of  2000\n",
      "The client does not have an account\n"
     ]
    }
   ],
   "source": [
    "class bank:\n",
    "    def __init__(self, customers):\n",
    "        self.customers = customers\n",
    "    \n",
    "    def add_account(self, number, credit = 0):\n",
    "        if number not in self.customers['acc_num']:\n",
    "            self.customers['acc_num'].append(number)\n",
    "            self.customers['cred'].append(credit)\n",
    "            print(\"the customer \", self.customers['acc_num'][-1], \" has been added with a credit of \", self.customers['cred'][-1])\n",
    "        else:\n",
    "            print(\"The customer already has an account\")\n",
    "    \n",
    "    def add_credit(self, number, deposit):\n",
    "        if number not in self.customers['acc_num']:\n",
    "            print(\"The client does not have an account\")\n",
    "        else:\n",
    "            ind = self.customers['acc_num'].index(number)\n",
    "            self.customers['cred'][ind] += deposit\n",
    "            print(\"The deposit of \", deposit, \" euros has been made. The client \", self.customers['acc_num'][ind], \" now has a credit of \", self.customers[\"cred\"][ind])\n",
    "\n",
    "    def withdraw_credit(self, number, withdraw):\n",
    "        if number not in self.customers[\"acc_num\"]:\n",
    "            print(\"The client does not have an account\")\n",
    "        else:\n",
    "            ind = self.customers[\"acc_num\"].index(number)\n",
    "\n",
    "            if self.customers[\"cred\"][ind] < withdraw:\n",
    "                print(\"the withdraw is not possible, not enough credit\")\n",
    "            else:\n",
    "                self.customers[\"cred\"][ind] -= withdraw\n",
    "                print(\"The withdraw of \", withdraw, \" euros has been made. The client \", self.customers[\"acc_num\"][ind], \" now has a credit of \", self.customers[\"cred\"][ind])\n",
    "\n",
    "\n",
    "customers = {\n",
    "    'acc_num': [1234, 5678, 9101, 1357],\n",
    "    'cred': [12000, 100000, 2, 45]\n",
    "}\n",
    "central_bank = bank(customers)\n",
    "\n",
    "central_bank.add_account(1234)\n",
    "central_bank.add_account(2468, 5000)\n",
    "print(customers)\n",
    "central_bank.add_credit(2468, 200)\n",
    "central_bank.add_credit(3431, 300)\n",
    "central_bank.withdraw_credit(1234, 10000)\n",
    "central_bank.withdraw_credit(1342, 300)\n",
    "        \n"
   ]
  }
 ],
 "metadata": {
  "kernelspec": {
   "display_name": "Python 3",
   "language": "python",
   "name": "python3"
  },
  "language_info": {
   "codemirror_mode": {
    "name": "ipython",
    "version": 3
   },
   "file_extension": ".py",
   "mimetype": "text/x-python",
   "name": "python",
   "nbconvert_exporter": "python",
   "pygments_lexer": "ipython3",
   "version": "3.12.6"
  }
 },
 "nbformat": 4,
 "nbformat_minor": 2
}
