{
 "cells": [
  {
   "cell_type": "markdown",
   "metadata": {},
   "source": [
    "# Python Classes and Objects (Homeworks)"
   ]
  },
  {
   "cell_type": "markdown",
   "metadata": {},
   "source": [
    "# Exercise 1"
   ]
  },
  {
   "cell_type": "markdown",
   "metadata": {},
   "source": [
    "- Write a Python program to create a Person class.\n",
    "- Required attributes: name, nationality, and date of birth. \n",
    "- Implement a method to determine the person’s age, returning the person's age. "
   ]
  },
  {
   "cell_type": "markdown",
   "metadata": {},
   "source": [
    "# Exercise 2"
   ]
  },
  {
   "cell_type": "markdown",
   "metadata": {},
   "source": [
    "- Define a Passenger class that inherit from the Person class defined in Exercise 1.\n",
    "- Required attributes: name, nationality, date of birth (using the super() function), departure country, arrival country, flight code, and seat.\n",
    "- Add a method to print the flight information (departure, arrival, flight and seat)\n",
    "- Add a method to check that the departure country is equal to the nationality of the country, and return a boolean variable accordingly.\n",
    "- Add a method to check that the passenger has a seat number different from [14,15] if younger than 18 years old. If this condition is met, change the passenger seat attribute with a suitable number (between 1 and 32) and return it."
   ]
  },
  {
   "cell_type": "markdown",
   "metadata": {},
   "source": [
    "# Exercise 3"
   ]
  },
  {
   "cell_type": "markdown",
   "metadata": {},
   "source": [
    "- Write a Bank class with a customers attribute in dictionary form. The dictionary of customers should have the keys: account_number, credit.\n",
    "- Implement a method to create an account for a new customers with a given account number, checking if it already exists in the bank and assigning it an initial balance (to be passed or set to 0 as default)\n",
    "- Implement a method to update the credit of a customer (identified by its account number) when a deposit is performed. First check if the customers is present in the customers already registered. If not, communicate to perform an account registration before depositing money.\n",
    "- Implement a method to update the available credit of the customers when it withdraw money. First check if the customers is present in the customers already registered. If not, negate the operation.\n",
    "- Implement a method to compute the total credit of the clients present in the bank"
   ]
  }
 ],
 "metadata": {
  "language_info": {
   "name": "python"
  }
 },
 "nbformat": 4,
 "nbformat_minor": 2
}
