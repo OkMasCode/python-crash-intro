{
 "cells": [
  {
   "cell_type": "markdown",
   "metadata": {},
   "source": [
    "# Numerical calculus with NumPy"
   ]
  },
  {
   "cell_type": "code",
   "execution_count": 2,
   "metadata": {},
   "outputs": [
    {
     "name": "stdout",
     "output_type": "stream",
     "text": [
      "1.26.2\n"
     ]
    }
   ],
   "source": [
    "import numpy as np # usually imported with this abbreviation\n",
    "\n",
    "print(np.__version__)"
   ]
  },
  {
   "cell_type": "code",
   "execution_count": 3,
   "metadata": {},
   "outputs": [
    {
     "name": "stdout",
     "output_type": "stream",
     "text": [
      "[1 2 3 4 5]\n",
      "<class 'numpy.ndarray'>\n"
     ]
    }
   ],
   "source": [
    "arr = np.array([1, 2, 3, 4, 5])\n",
    "\n",
    "print(arr)\n",
    "print(type(arr))"
   ]
  },
  {
   "cell_type": "markdown",
   "metadata": {},
   "source": [
    "type(): This built-in Python function tells us the type of the object passed to it. Like in above code it shows that arr is numpy.ndarray type."
   ]
  },
  {
   "cell_type": "markdown",
   "metadata": {},
   "source": [
    "To create an ndarray, we can pass a list, tuple or any array-like object into the array() method, and it will be converted into an ndarray:"
   ]
  },
  {
   "cell_type": "markdown",
   "metadata": {},
   "source": [
    "We can specify the data type of values in the array. Also, we can use some basic array filled with initial values (zeros, ones, other), or use other basic intialization (arange, linspace, random)"
   ]
  },
  {
   "cell_type": "code",
   "execution_count": 4,
   "metadata": {},
   "outputs": [
    {
     "name": "stdout",
     "output_type": "stream",
     "text": [
      "[0 0 0 0 0 0 0 0 0 0]\n",
      "[[1. 1. 1. 1. 1.]\n",
      " [1. 1. 1. 1. 1.]\n",
      " [1. 1. 1. 1. 1.]]\n",
      "[[3.14 3.14 3.14 3.14]\n",
      " [3.14 3.14 3.14 3.14]\n",
      " [3.14 3.14 3.14 3.14]\n",
      " [3.14 3.14 3.14 3.14]]\n",
      "[ 0  2  4  6  8 10 12 14 16 18]\n",
      "[0.   0.25 0.5  0.75 1.  ]\n",
      "[[1. 0. 0.]\n",
      " [0. 1. 0.]\n",
      " [0. 0. 1.]]\n",
      "[-0.73231719  0.74983086  1.82519161 -0.58059063  0.18395112  0.15854686\n",
      "  0.72885254  0.06422319 -0.7673617  -0.90843827]\n"
     ]
    }
   ],
   "source": [
    "v1 = np.zeros(10, dtype=int)\n",
    "m2 = np.ones ((3, 5), dtype = float)\n",
    "M = np.full ((4, 4), 3.14)\n",
    "\n",
    "print(v1)\n",
    "print(m2)\n",
    "print(M)\n",
    "\n",
    "v1 = np.arange(0, 20, 2) # similar to Python range\n",
    "v2 = np.linspace(0, 1, 5) # equi-spaced vector (start, end, increment)\n",
    "print(v1)\n",
    "print(v2)\n",
    "\n",
    "M = np.eye(3) # identity matrix\n",
    "print(M)\n",
    "\n",
    "vr = np.random.randn(10) # sample from the standard normal distribution (10 is the size of the array)\n",
    "print(vr)"
   ]
  },
  {
   "cell_type": "markdown",
   "metadata": {},
   "source": [
    "Check the type of an array"
   ]
  },
  {
   "cell_type": "markdown",
   "metadata": {},
   "source": [
    "# Dimensions in Arrays"
   ]
  },
  {
   "cell_type": "code",
   "execution_count": 5,
   "metadata": {},
   "outputs": [
    {
     "name": "stdout",
     "output_type": "stream",
     "text": [
      "0-D array: 42\n",
      "1-D array: [1 2 3 4 5]\n",
      "2-D array: [[1 2 3]\n",
      " [4 5 6]]\n",
      "3-D array: [[[1 2 3]\n",
      "  [4 5 6]]\n",
      "\n",
      " [[1 2 3]\n",
      "  [4 5 6]]\n",
      "\n",
      " [[1 2 3]\n",
      "  [4 5 6]]\n",
      "\n",
      " [[1 2 3]\n",
      "  [4 5 6]]]\n"
     ]
    }
   ],
   "source": [
    "arr = np.array(42)\n",
    "print(\"0-D array:\", arr)\n",
    "\n",
    "arr = np.array([1, 2, 3, 4, 5])\n",
    "print(\"1-D array:\", arr)\n",
    "\n",
    "arr = np.array([[1, 2, 3], [4, 5, 6]])\n",
    "print(\"2-D array:\", arr)\n",
    "\n",
    "arr = np.array([[[1, 2, 3], [4, 5, 6]], [[1, 2, 3], [4, 5, 6]],\n",
    "              [[1, 2, 3], [4, 5, 6]], [[1, 2, 3], [4, 5, 6]]])\n",
    "print(\"3-D array:\", arr)"
   ]
  },
  {
   "cell_type": "markdown",
   "metadata": {},
   "source": [
    "**Check Number of Dimensions**"
   ]
  },
  {
   "cell_type": "code",
   "execution_count": 6,
   "metadata": {},
   "outputs": [
    {
     "name": "stdout",
     "output_type": "stream",
     "text": [
      "0\n",
      "1\n",
      "2\n",
      "3\n"
     ]
    }
   ],
   "source": [
    "a = np.array(42)\n",
    "b = np.array([1, 2, 3, 4, 5])\n",
    "c = np.array([[1, 2, 3], [4, 5, 6]])\n",
    "d = np.array([[[1, 2, 3], [4, 5, 6]], [[1, 2, 3], [4, 5, 6]],\n",
    "              [[1, 2, 3], [4, 5, 6]], [[1, 2, 3], [4, 5, 6]]])\n",
    "\n",
    "print(a.ndim)\n",
    "print(b.ndim)\n",
    "print(c.ndim)\n",
    "print(d.ndim)"
   ]
  },
  {
   "cell_type": "markdown",
   "metadata": {},
   "source": [
    "**Dim vs shape vs size**"
   ]
  },
  {
   "cell_type": "markdown",
   "metadata": {},
   "source": [
    "**Shape**: a tuple composed with the size of each axis (or dimension) of the array"
   ]
  },
  {
   "cell_type": "code",
   "execution_count": 7,
   "metadata": {},
   "outputs": [
    {
     "name": "stdout",
     "output_type": "stream",
     "text": [
      "()\n",
      "(5,)\n",
      "(2, 3)\n",
      "(4, 2, 3)\n"
     ]
    }
   ],
   "source": [
    "print(a.shape)\n",
    "print(b.shape)\n",
    "print(c.shape)\n",
    "print(d.shape)"
   ]
  },
  {
   "cell_type": "markdown",
   "metadata": {},
   "source": [
    "**Size**: The overall size (or number of values) contained in the array. We can compute the size as the product of the size of each dimension "
   ]
  },
  {
   "cell_type": "code",
   "execution_count": 8,
   "metadata": {},
   "outputs": [
    {
     "name": "stdout",
     "output_type": "stream",
     "text": [
      "1\n",
      "5\n",
      "6\n",
      "24\n"
     ]
    }
   ],
   "source": [
    "print(a.size)\n",
    "print(b.size) # 5x1\n",
    "print(c.size) # 2x3\n",
    "print(d.size) # 2x2x3"
   ]
  },
  {
   "cell_type": "markdown",
   "metadata": {},
   "source": [
    "**Copy an array**"
   ]
  },
  {
   "cell_type": "code",
   "execution_count": 9,
   "metadata": {},
   "outputs": [
    {
     "name": "stdout",
     "output_type": "stream",
     "text": [
      "[1 2 3 4 5]\n",
      "[1 2 3 4 5]\n",
      "Original array: [42  2  3  4  5]\n",
      "[42  2  3  4  5]\n",
      "Original array: [42  2 24  4  5]\n",
      "[42  2 24  4  5]\n"
     ]
    }
   ],
   "source": [
    "arr = np.array([1, 2, 3, 4, 5])\n",
    "x = arr.copy() # it is like deepcopy() in python (create a new array)\n",
    "\n",
    "print(arr)\n",
    "print(x)\n",
    "\n",
    "Y = arr.view() # it is like copy in python\n",
    "arr[0] = 42\n",
    "\n",
    "print(\"Original array:\", arr)\n",
    "print(Y)\n",
    "\n",
    "Z = arr\n",
    "Z[2] = 24\n",
    "print(\"Original array:\", arr)\n",
    "print(Z)"
   ]
  },
  {
   "cell_type": "markdown",
   "metadata": {},
   "source": [
    "# Slicing and Indezing Arrays"
   ]
  },
  {
   "cell_type": "code",
   "execution_count": 10,
   "metadata": {},
   "outputs": [
    {
     "name": "stdout",
     "output_type": "stream",
     "text": [
      "2nd element on 1st row:  2\n",
      "5th element on 2nd row:  10\n",
      "45th element on 1st row:  5\n",
      "6\n"
     ]
    }
   ],
   "source": [
    "# INDEXING Examples\n",
    "\n",
    "arr = np.array([[1,2,3,4,5], [6,7,8,9,10]])\n",
    "\n",
    "print('2nd element on 1st row: ', arr[0, 1])\n",
    "print('5th element on 2nd row: ', arr[1, 4])\n",
    "print('45th element on 1st row: ', arr[0, -1])\n",
    "\n",
    "arr = np.array([[[1, 2, 3], [4, 5, 6]], \n",
    "                [[7, 8, 9], [10, 11, 12]]])\n",
    "print(arr[0, 1, 2]) # each index refers to a dimension!"
   ]
  },
  {
   "cell_type": "markdown",
   "metadata": {},
   "source": [
    "Slicing in python means taking elements from one given index to another given index.\n",
    "\n",
    "We pass slice instead of index like this: [start:end].\n",
    "\n",
    "We can also define the step, like this: [start:end:step].\n",
    "\n",
    "If we don't pass start its considered 0\n",
    "\n",
    "If we don't pass end its considered length of array in that dimension\n",
    "\n",
    "If we don't pass step its considered 1"
   ]
  },
  {
   "cell_type": "code",
   "execution_count": 11,
   "metadata": {},
   "outputs": [
    {
     "name": "stdout",
     "output_type": "stream",
     "text": [
      "x2\n",
      "[[5 0 3 3]\n",
      " [7 9 3 5]\n",
      " [2 4 7 6]]\n",
      "slice: x2[:2, :3]\n",
      "[[5 0 3]\n",
      " [7 9 3]]\n",
      "slice: x2[:, ::2]\n",
      "[[5 3]\n",
      " [7 3]\n",
      " [2 7]]\n",
      "reversed: x2[::-1, ::-1]\n",
      "[[6 7 4 2]\n",
      " [5 3 9 7]\n",
      " [3 3 0 5]]\n",
      "first row: [5 0 3 3]\n",
      "first column: [5 7 2]\n",
      "modifying x2_2[0,0]\n",
      "x2_2[0,0]: -15, x2[0,0]: -15\n",
      "now modifying x2_2_copy[0,0]\n",
      "x2_2_copy[0,0]: 21, x2[0,0]: -15\n"
     ]
    }
   ],
   "source": [
    "# SLICING Examples\n",
    "\n",
    "np.random.seed(0) # seed for reproducibility\n",
    "x2 = np.random.randint(10, size=(3, 4)) # 2-dimensional array\n",
    "\n",
    "print(f\"x2\\n{x2}\")\n",
    "print(f\"slice: x2[:2, :3]\\n{x2[:2, :3]}\") # 2 rows, 3 columns\n",
    "\n",
    "x2_2 = x2[:,::2] # all rows, every other column\n",
    "print(f\"slice: x2[:, ::2]\\n{x2_2}\")\n",
    "print(f\"reversed: x2[::-1, ::-1]\\n{x2[::-1,::-1]}\")\n",
    "print(f\"first row: {x2[0]}\") # same as x2[0,:]\n",
    "print(f\"first column: {x2[:,0]}\")\n",
    "print(\"modifying x2_2[0,0]\")\n",
    "\n",
    "x2_2[0,0] = -15\n",
    "print(f\"x2_2[0,0]: {x2_2[0,0]}, x2[0,0]: {x2[0,0]}\")\n",
    "\n",
    "x2_2_copy = x2[:,::2].copy() # all rows, every other column\n",
    "print(\"now modifying x2_2_copy[0,0]\")\n",
    "\n",
    "x2_2_copy[0,0] = 21\n",
    "print(f\"x2_2_copy[0,0]: {x2_2_copy[0,0]}, x2[0,0]: {x2[0,0]}\")"
   ]
  },
  {
   "cell_type": "markdown",
   "metadata": {},
   "source": [
    "# Reshape"
   ]
  },
  {
   "cell_type": "markdown",
   "metadata": {},
   "source": [
    "Reshaping means changing the shape of an array.\n",
    "\n",
    "The shape of an array is the number of elements in each dimension.\n",
    "\n",
    "By reshaping we can add or remove dimensions or change number of elements in each dimension."
   ]
  },
  {
   "cell_type": "code",
   "execution_count": 12,
   "metadata": {},
   "outputs": [
    {
     "name": "stdout",
     "output_type": "stream",
     "text": [
      "[[ 1  2  3]\n",
      " [ 4  5  6]\n",
      " [ 7  8  9]\n",
      " [10 11 12]]\n",
      "[[[ 1  2]\n",
      "  [ 3  4]\n",
      "  [ 5  6]]\n",
      "\n",
      " [[ 7  8]\n",
      "  [ 9 10]\n",
      "  [11 12]]]\n"
     ]
    }
   ],
   "source": [
    "arr = np.array([1, 2, 3, 4, 5, 6, 7, 8, 9, 10, 11, 12])\n",
    "\n",
    "# reshape from 1D to 2D\n",
    "newarr = arr.reshape(4, 3)\n",
    "print(newarr)\n",
    "\n",
    "# reshape from 2D to 3D\n",
    "newarr = arr.reshape(2, 3, 2)\n",
    "print(newarr)\n"
   ]
  },
  {
   "cell_type": "markdown",
   "metadata": {},
   "source": [
    "**Can We Reshape Into any Shape?**\n",
    "\n",
    "Yes, as long as the elements required for reshaping are equal in both shapes.\n",
    "\n",
    "We can reshape an 8 elements 1D array into 4 elements in 2 rows 2D array but we cannot reshape it into a 3 elements 3 rows 2D array as that would require 3x3 = 9 elements."
   ]
  },
  {
   "cell_type": "code",
   "execution_count": 13,
   "metadata": {},
   "outputs": [
    {
     "ename": "ValueError",
     "evalue": "cannot reshape array of size 8 into shape (3,3)",
     "output_type": "error",
     "traceback": [
      "\u001b[0;31m---------------------------------------------------------------------------\u001b[0m",
      "\u001b[0;31mValueError\u001b[0m                                Traceback (most recent call last)",
      "Cell \u001b[0;32mIn[13], line 3\u001b[0m\n\u001b[1;32m      1\u001b[0m arr \u001b[38;5;241m=\u001b[39m np\u001b[38;5;241m.\u001b[39marray([\u001b[38;5;241m1\u001b[39m, \u001b[38;5;241m2\u001b[39m, \u001b[38;5;241m3\u001b[39m, \u001b[38;5;241m4\u001b[39m, \u001b[38;5;241m5\u001b[39m, \u001b[38;5;241m6\u001b[39m, \u001b[38;5;241m7\u001b[39m, \u001b[38;5;241m8\u001b[39m])\n\u001b[0;32m----> 3\u001b[0m newarr \u001b[38;5;241m=\u001b[39m \u001b[43marr\u001b[49m\u001b[38;5;241;43m.\u001b[39;49m\u001b[43mreshape\u001b[49m\u001b[43m(\u001b[49m\u001b[38;5;241;43m3\u001b[39;49m\u001b[43m,\u001b[49m\u001b[43m \u001b[49m\u001b[38;5;241;43m3\u001b[39;49m\u001b[43m)\u001b[49m\n",
      "\u001b[0;31mValueError\u001b[0m: cannot reshape array of size 8 into shape (3,3)"
     ]
    }
   ],
   "source": [
    "arr = np.array([1, 2, 3, 4, 5, 6, 7, 8])\n",
    "\n",
    "newarr = arr.reshape(3, 3)"
   ]
  },
  {
   "cell_type": "markdown",
   "metadata": {},
   "source": [
    "You are allowed to have one \"unknown\" dimension.\n",
    "\n",
    "Meaning that you do not have to specify an exact number for one of the dimensions in the reshape method.\n",
    "\n",
    "Pass -1 as the value, and NumPy will calculate this number for you."
   ]
  },
  {
   "cell_type": "code",
   "execution_count": 33,
   "metadata": {},
   "outputs": [
    {
     "name": "stdout",
     "output_type": "stream",
     "text": [
      "Original shape: (8,)\n",
      "new arr 1: [[[1 2]\n",
      "  [3 4]]\n",
      "\n",
      " [[5 6]\n",
      "  [7 8]]]\n",
      "New shape 1: (2, 2, 2)\n",
      "new arr 2: [[[1]\n",
      "  [2]\n",
      "  [3]\n",
      "  [4]]\n",
      "\n",
      " [[5]\n",
      "  [6]\n",
      "  [7]\n",
      "  [8]]]\n",
      "New shape 2: (2, 4, 1)\n",
      "new arr 2: [[1 2 3 4]\n",
      " [5 6 7 8]]\n",
      "New shape 2: (2, 4)\n"
     ]
    }
   ],
   "source": [
    "arr = np.array([1, 2, 3, 4, 5, 6, 7, 8])\n",
    "print(\"Original shape:\", arr.shape)\n",
    "\n",
    "newarr = arr.reshape(2, 2, -1)\n",
    "\n",
    "print(\"new arr 1:\", newarr)\n",
    "print(\"New shape 1:\", newarr.shape)\n",
    "\n",
    "newarr = arr.reshape(2, 4, -1)\n",
    "\n",
    "print(\"new arr 2:\", newarr)\n",
    "print(\"New shape 2:\", newarr.shape)\n",
    "\n",
    "# squeeze() function cancel 1d extra dimensions of an array\n",
    "newarr = newarr.squeeze()\n",
    "print(\"new arr 2:\", newarr)\n",
    "print(\"New shape 2:\", newarr.shape)"
   ]
  },
  {
   "cell_type": "markdown",
   "metadata": {},
   "source": [
    "**Flattening** array means converting a multidimensional array into a 1D array.\n",
    "\n",
    "We can use reshape(-1) to do this."
   ]
  },
  {
   "cell_type": "code",
   "execution_count": null,
   "metadata": {},
   "outputs": [
    {
     "name": "stdout",
     "output_type": "stream",
     "text": [
      "Original shape: (2, 3)\n",
      "[1 2 3 4 5 6]\n",
      "New shape: (6,)\n"
     ]
    }
   ],
   "source": [
    "arr = np.array([[1, 2, 3], [4, 5, 6]])\n",
    "print(\"Original shape:\", arr.shape)\n",
    "newarr = arr.reshape(-1)\n",
    "\n",
    "print(newarr)\n",
    "print(\"New shape:\", newarr.shape)"
   ]
  },
  {
   "cell_type": "markdown",
   "metadata": {},
   "source": [
    "# Array iteration"
   ]
  },
  {
   "cell_type": "markdown",
   "metadata": {},
   "source": [
    "If we iterate on a 1-D array it will go through each element one by one.\n",
    "\n",
    "In a 2-D array it will go through all the rows."
   ]
  },
  {
   "cell_type": "code",
   "execution_count": null,
   "metadata": {},
   "outputs": [
    {
     "name": "stdout",
     "output_type": "stream",
     "text": [
      "[1 2 3]\n",
      "[4 5 6]\n"
     ]
    }
   ],
   "source": [
    "arr = np.array([[1, 2, 3], [4, 5, 6]])\n",
    "\n",
    "for x in arr:\n",
    "  print(x)"
   ]
  },
  {
   "cell_type": "markdown",
   "metadata": {},
   "source": [
    "Iterate on each scalar element of the 2-D array:\n",
    "\n"
   ]
  },
  {
   "cell_type": "code",
   "execution_count": null,
   "metadata": {},
   "outputs": [
    {
     "name": "stdout",
     "output_type": "stream",
     "text": [
      "1\n",
      "2\n",
      "3\n",
      "4\n",
      "5\n",
      "6\n"
     ]
    }
   ],
   "source": [
    "arr = np.array([[1, 2, 3], [4, 5, 6]])\n",
    "\n",
    "for x in arr:\n",
    "  for y in x:\n",
    "    print(y)"
   ]
  },
  {
   "cell_type": "markdown",
   "metadata": {},
   "source": [
    "In a 3-D array it will go through all the 2-D arrays.\n",
    "\n"
   ]
  },
  {
   "cell_type": "code",
   "execution_count": null,
   "metadata": {},
   "outputs": [
    {
     "name": "stdout",
     "output_type": "stream",
     "text": [
      "[[1 2 3]\n",
      " [4 5 6]]\n",
      "[[ 7  8  9]\n",
      " [10 11 12]]\n",
      "1\n",
      "2\n",
      "3\n",
      "4\n",
      "5\n",
      "6\n",
      "7\n",
      "8\n",
      "9\n",
      "10\n",
      "11\n",
      "12\n"
     ]
    }
   ],
   "source": [
    "arr = np.array([[[1, 2, 3], [4, 5, 6]], [[7, 8, 9], [10, 11, 12]]])\n",
    "\n",
    "for x in arr:\n",
    "  print(x)\n",
    "\n",
    "for x in arr:\n",
    "  for y in x:\n",
    "    for z in y:\n",
    "      print(z)"
   ]
  },
  {
   "cell_type": "markdown",
   "metadata": {},
   "source": [
    "# Join Array"
   ]
  },
  {
   "cell_type": "markdown",
   "metadata": {},
   "source": [
    "Joining means putting contents of two or more arrays in a single array.\n",
    "\n",
    "We pass a sequence of arrays that we want to join to the concatenate() function, along with the axis. If axis is not explicitly passed, it is taken as 0."
   ]
  },
  {
   "cell_type": "code",
   "execution_count": null,
   "metadata": {},
   "outputs": [
    {
     "name": "stdout",
     "output_type": "stream",
     "text": [
      "[1 2 3 4 5 6]\n"
     ]
    }
   ],
   "source": [
    "arr1 = np.array([1, 2, 3])\n",
    "\n",
    "arr2 = np.array([4, 5, 6])\n",
    "\n",
    "arr = np.concatenate((arr1, arr2))\n",
    "\n",
    "print(arr)"
   ]
  },
  {
   "cell_type": "code",
   "execution_count": null,
   "metadata": {},
   "outputs": [
    {
     "name": "stdout",
     "output_type": "stream",
     "text": [
      "Concatenate along the first axis:\n",
      " [[1 2]\n",
      " [3 4]\n",
      " [5 6]\n",
      " [7 8]]\n",
      "Concatenate along the second axis: \n",
      " [[1 2 5 6]\n",
      " [3 4 7 8]]\n"
     ]
    }
   ],
   "source": [
    "arr1 = np.array([[1, 2], [3, 4]])\n",
    "\n",
    "arr2 = np.array([[5, 6], [7, 8]])\n",
    "\n",
    "\n",
    "arr = np.concatenate((arr1, arr2), axis=0)\n",
    "print(\"Concatenate along the first axis:\\n\", arr)\n",
    "\n",
    "arr = np.concatenate((arr1, arr2), axis=1)\n",
    "print(\"Concatenate along the second axis: \\n\", arr)"
   ]
  },
  {
   "cell_type": "markdown",
   "metadata": {},
   "source": [
    "Stacking is same as concatenation, the only difference is that stacking is done along a new axis.\n",
    "\n",
    "We can concatenate two 1-D arrays along the second axis which would result in putting them one over the other, ie. stacking.\n",
    "\n",
    "We pass a sequence of arrays that we want to join to the stack() method along with the axis. If axis is not explicitly passed it is taken as 0."
   ]
  },
  {
   "cell_type": "code",
   "execution_count": null,
   "metadata": {},
   "outputs": [
    {
     "name": "stdout",
     "output_type": "stream",
     "text": [
      "(3,)\n",
      "[[1 2 3]\n",
      " [4 5 6]]\n",
      "[[1 4]\n",
      " [2 5]\n",
      " [3 6]]\n"
     ]
    }
   ],
   "source": [
    "arr1 = np.array([1, 2, 3])\n",
    "\n",
    "arr2 = np.array([4, 5, 6])\n",
    "print(arr1.shape)\n",
    "\n",
    "arr = np.stack((arr1, arr2), axis=0) \n",
    "print(arr)\n",
    "\n",
    "arr = np.stack((arr1, arr2), axis=1) \n",
    "print(arr)"
   ]
  },
  {
   "cell_type": "markdown",
   "metadata": {},
   "source": [
    "# Sort Array"
   ]
  },
  {
   "cell_type": "code",
   "execution_count": null,
   "metadata": {},
   "outputs": [
    {
     "name": "stdout",
     "output_type": "stream",
     "text": [
      "[0 1 2 3]\n",
      "[[2 3 4]\n",
      " [0 1 5]]\n"
     ]
    }
   ],
   "source": [
    "arr = np.array([3, 2, 0, 1])\n",
    "\n",
    "print(np.sort(arr))\n",
    "\n",
    "arr = np.array([[3, 2, 4], [5, 0, 1]])\n",
    "\n",
    "print(np.sort(arr))"
   ]
  },
  {
   "cell_type": "markdown",
   "metadata": {},
   "source": [
    "# Random"
   ]
  },
  {
   "cell_type": "markdown",
   "metadata": {},
   "source": [
    "NumPy offers the random module to work with random numbers.\n",
    "\n"
   ]
  },
  {
   "cell_type": "code",
   "execution_count": null,
   "metadata": {},
   "outputs": [
    {
     "name": "stdout",
     "output_type": "stream",
     "text": [
      "88\n"
     ]
    }
   ],
   "source": [
    "from numpy import random\n",
    "\n",
    "x = random.randint(100)\n",
    "\n",
    "print(x)"
   ]
  },
  {
   "cell_type": "markdown",
   "metadata": {},
   "source": [
    "The random module's rand() method returns a random float between 0 and 1.\n"
   ]
  },
  {
   "cell_type": "code",
   "execution_count": null,
   "metadata": {},
   "outputs": [
    {
     "name": "stdout",
     "output_type": "stream",
     "text": [
      "0.23274412927905685\n",
      "[[0.61446471 0.03307459 0.01560606 0.42879572 0.06807407]\n",
      " [0.25194099 0.22116092 0.25319119 0.13105523 0.01203622]\n",
      " [0.1154843  0.61848026 0.97425621 0.990345   0.4090541 ]]\n"
     ]
    }
   ],
   "source": [
    "x = random.rand()\n",
    "\n",
    "print(x)\n",
    "\n",
    "x = random.rand(3, 5) # we can specify the shape\n",
    "\n",
    "print(x)"
   ]
  },
  {
   "cell_type": "code",
   "execution_count": null,
   "metadata": {},
   "outputs": [
    {
     "name": "stdout",
     "output_type": "stream",
     "text": [
      "[7 7 5 5 3 5 5 7 7 7 5 5 5 7 3 7 7 7 5 5]\n",
      "[[7 7 7 5 7]\n",
      " [3 7 3 7 7]\n",
      " [7 9 7 3 7]]\n"
     ]
    }
   ],
   "source": [
    "x = random.choice([3, 5, 7, 9], p=[0.1, 0.3, 0.6, 0.0], size=(20))\n",
    "\n",
    "print(x)\n",
    "\n",
    "x = random.choice([3, 5, 7, 9], p=[0.1, 0.1, 0.6, 0.2], size=(3, 5))\n",
    "\n",
    "print(x)"
   ]
  },
  {
   "cell_type": "markdown",
   "metadata": {},
   "source": [
    "**Normal Distribution**"
   ]
  },
  {
   "cell_type": "markdown",
   "metadata": {},
   "source": [
    "The Normal Distribution is one of the most important distributions.\n",
    "\n",
    "It is also called the Gaussian Distribution.\n",
    "Use the random.normal() method to get a Normal Data Distribution.\n",
    "\n",
    "It has three parameters:\n",
    "\n",
    "loc - (Mean) where the peak of the bell exists.\n",
    "\n",
    "scale - (Standard Deviation) how flat the graph distribution should be.\n",
    "\n",
    "size - The shape of the returned array."
   ]
  },
  {
   "cell_type": "code",
   "execution_count": null,
   "metadata": {},
   "outputs": [
    {
     "name": "stdout",
     "output_type": "stream",
     "text": [
      "[[ 3.10153058  0.85875415 -1.15477553]\n",
      " [ 0.94183434 -0.28213514 -0.97565467]]\n"
     ]
    }
   ],
   "source": [
    "x = random.normal(size=(2, 3))\n",
    "print(x)"
   ]
  },
  {
   "cell_type": "code",
   "execution_count": null,
   "metadata": {},
   "outputs": [
    {
     "name": "stdout",
     "output_type": "stream",
     "text": [
      "[[ 2.65914219  0.58536401  3.23599721]\n",
      " [ 3.12849937  3.30265967 -0.54491541]]\n"
     ]
    }
   ],
   "source": [
    "x = random.normal(loc=1, scale=2, size=(2, 3))\n",
    "print(x)"
   ]
  },
  {
   "cell_type": "markdown",
   "metadata": {},
   "source": [
    "# Matrix operations"
   ]
  },
  {
   "cell_type": "markdown",
   "metadata": {},
   "source": [
    "**Matrix Transposition**"
   ]
  },
  {
   "cell_type": "code",
   "execution_count": 18,
   "metadata": {},
   "outputs": [
    {
     "name": "stdout",
     "output_type": "stream",
     "text": [
      "[[0.67887953 0.72063265 0.58201979 0.53737323]\n",
      " [0.75861562 0.10590761 0.47360042 0.18633234]]\n",
      "(2, 4)\n",
      "[[0.67887953 0.75861562]\n",
      " [0.72063265 0.10590761]\n",
      " [0.58201979 0.47360042]\n",
      " [0.53737323 0.18633234]]\n",
      "(4, 2)\n"
     ]
    }
   ],
   "source": [
    "x = np.random.rand(2, 4) # we can specify the shape\n",
    "print(x)\n",
    "print(x.shape)\n",
    "\n",
    "x_t = x.T\n",
    "print(x_t)\n",
    "print(x_t.shape)"
   ]
  },
  {
   "cell_type": "markdown",
   "metadata": {},
   "source": [
    "**Matrix multiplication**: The @ perform a matrix multiplication, so the order of the operands it is relevant. I reported here an example of multiplying "
   ]
  },
  {
   "cell_type": "code",
   "execution_count": 30,
   "metadata": {},
   "outputs": [
    {
     "name": "stdout",
     "output_type": "stream",
     "text": [
      "x_t @ x:\n",
      " [[1.03637508 0.56956592 0.754402   0.50616631]\n",
      " [0.56956592 0.53052784 0.46958036 0.40698271]\n",
      " [0.754402   0.46958036 0.5630444  0.40100893]\n",
      " [0.50616631 0.40698271 0.40100893 0.32348973]]\n",
      "(4, 4)\n",
      "\n",
      "\n",
      "x @ x_t:\n",
      " [[1.60770587 0.96710393]\n",
      " [0.96710393 0.84573119]]\n",
      "(2, 2)\n"
     ]
    }
   ],
   "source": [
    "A = x_t @ x\n",
    "print(\"x_t @ x:\\n\", A)\n",
    "print(A.shape)\n",
    "print(\"\\n\")\n",
    "B = x @ x_t\n",
    "print(\"x @ x_t:\\n\", B)\n",
    "print(B.shape)"
   ]
  },
  {
   "cell_type": "markdown",
   "metadata": {},
   "source": [
    "**Inverse of a matrix**"
   ]
  },
  {
   "cell_type": "code",
   "execution_count": 29,
   "metadata": {},
   "outputs": [
    {
     "name": "stdout",
     "output_type": "stream",
     "text": [
      "Squared matrix:\n",
      " [[1 2]\n",
      " [3 4]]\n",
      "Inverted Squared matrix:\n",
      " [[-2.   1. ]\n",
      " [ 1.5 -0.5]]\n",
      "Identity proof:\n",
      " [[1.0000000e+00 0.0000000e+00]\n",
      " [8.8817842e-16 1.0000000e+00]]\n"
     ]
    }
   ],
   "source": [
    "from numpy.linalg import inv # this operator is used to compute the inverse of a matrix\n",
    "\n",
    "square_mat = np.array([[1,2],[3,4]]) # create a 2x2 matrix\n",
    "print(\"Squared matrix:\\n\", square_mat)\n",
    "\n",
    "print(\"Inverted Squared matrix:\\n\",inv(square_mat)) # compute the inverse of the matrix\n",
    "\n",
    "print(\"Identity proof:\\n\", square_mat @ inv(square_mat)) # compute the product of the matrix and its inverse (should be the identity matrix)"
   ]
  }
 ],
 "metadata": {
  "kernelspec": {
   "display_name": "Python 3",
   "language": "python",
   "name": "python3"
  },
  "language_info": {
   "codemirror_mode": {
    "name": "ipython",
    "version": 3
   },
   "file_extension": ".py",
   "mimetype": "text/x-python",
   "name": "python",
   "nbconvert_exporter": "python",
   "pygments_lexer": "ipython3",
   "version": "3.10.12"
  }
 },
 "nbformat": 4,
 "nbformat_minor": 2
}
