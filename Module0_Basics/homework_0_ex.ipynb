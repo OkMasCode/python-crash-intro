{
 "cells": [
  {
   "cell_type": "markdown",
   "metadata": {},
   "source": [
    "# Exercise 1.1"
   ]
  },
  {
   "cell_type": "markdown",
   "metadata": {},
   "source": [
    "Write a Python code to iterate the first 10 numbers, and in each iteration, print the sum of the current and previous number."
   ]
  },
  {
   "cell_type": "markdown",
   "metadata": {},
   "source": [
    "Expected output: Printing current and previous number sum in a range(10)\n",
    "- Current Number 0 Previous Number  0  Sum:  0\n",
    "- Current Number 1 Previous Number  0  Sum:  1\n",
    "- Current Number 2 Previous Number  1  Sum:  3\n",
    "- Current Number 3 Previous Number  2  Sum:  5\n",
    "- Current Number 4 Previous Number  3  Sum:  7\n",
    "- Current Number 5 Previous Number  4  Sum:  9\n",
    "- Current Number 6 Previous Number  5  Sum:  11\n",
    "- Current Number 7 Previous Number  6  Sum:  13\n",
    "- Current Number 8 Previous Number  7  Sum:  15\n",
    "- Current Number 9 Previous Number  8  Sum:  17"
   ]
  },
  {
   "cell_type": "code",
   "execution_count": 6,
   "metadata": {},
   "outputs": [
    {
     "name": "stdout",
     "output_type": "stream",
     "text": [
      "current number  1  previous number  1  sum  2\n",
      "current number  2  previous number  1  sum  3\n",
      "current number  3  previous number  2  sum  5\n",
      "current number  4  previous number  3  sum  7\n",
      "current number  5  previous number  4  sum  9\n",
      "current number  6  previous number  5  sum  11\n",
      "current number  7  previous number  6  sum  13\n",
      "current number  8  previous number  7  sum  15\n",
      "current number  9  previous number  8  sum  17\n"
     ]
    }
   ],
   "source": [
    "a = range(1,10)\n",
    "for i in a:\n",
    "    if i == 1:\n",
    "        print(\"current number \", i, \" previous number \", i, \" sum \", i+i)\n",
    "    else:\n",
    "        print(\"current number \", i, \" previous number \", i-1, \" sum \", i+(i-1))"
   ]
  },
  {
   "cell_type": "markdown",
   "metadata": {},
   "source": [
    "# Exercise 1.2"
   ]
  },
  {
   "cell_type": "markdown",
   "metadata": {},
   "source": [
    "Write a Python code to display every character of a string present at its even indexes."
   ]
  },
  {
   "cell_type": "code",
   "execution_count": 16,
   "metadata": {},
   "outputs": [
    {
     "name": "stdout",
     "output_type": "stream",
     "text": [
      "H  \n",
      "s  \n",
      "y  \n",
      "o  \n",
      "e  \n",
      "H s y o e\n"
     ]
    }
   ],
   "source": [
    "str1_2 = \"HuskyRover\"\n",
    "\n",
    "for x in range(len(str1_2)):\n",
    "    if x%2 == 0:\n",
    "        print(str1_2[x], \" \")\n",
    "\n",
    "\n",
    "print(*(str1_2[i] for i in range(len(str1_2)) if i%2==0))\n",
    "\n",
    "# Expected output: H, s, y, o, e"
   ]
  },
  {
   "cell_type": "markdown",
   "metadata": {},
   "source": [
    "# Exercise 1.3"
   ]
  },
  {
   "cell_type": "markdown",
   "metadata": {},
   "source": [
    "Write a Python code to remove characters from a string from 0 to n and return a new string.\n",
    "\n",
    "For Example:\n",
    "\n",
    "solution(\"PYnative\", 4) so output must be **tive**. \n",
    "Here, you need to remove the first four characters from a string.\n",
    "\n",
    "solution(\"PYnative\", 2) so output must be **native**. \n",
    "Here, you need to remove the first two characters from a string.\n",
    "Note: n must be less than the length of the string."
   ]
  },
  {
   "cell_type": "code",
   "execution_count": 19,
   "metadata": {},
   "outputs": [
    {
     "name": "stdout",
     "output_type": "stream",
     "text": [
      "native\n"
     ]
    }
   ],
   "source": [
    "str1 = \"PYnative\"\n",
    "a = 2\n",
    "str2 = str1[a:]\n",
    "print(str2)"
   ]
  },
  {
   "cell_type": "markdown",
   "metadata": {},
   "source": [
    "# Exercise 2"
   ]
  },
  {
   "cell_type": "markdown",
   "metadata": {},
   "source": [
    "Given two lists of numbers, write a Python code to create a new list such that the latest list should contain odd numbers from the first list and even numbers from the second list."
   ]
  },
  {
   "cell_type": "code",
   "execution_count": 32,
   "metadata": {},
   "outputs": [
    {
     "name": "stdout",
     "output_type": "stream",
     "text": [
      "[25, 35, 40, 60, 90]\n"
     ]
    }
   ],
   "source": [
    "list1 = [10, 20, 25, 30, 35]\n",
    "list2 = [40, 45, 60, 75, 90]\n",
    "list3 = []\n",
    "\n",
    "for x in range(len(list1)):\n",
    "    if list1[x]%2!=0:\n",
    "        list3.append(list1[x])\n",
    "for x in range(len(list2)):\n",
    "    if list2[x]%2==0:\n",
    "        list3.append(list2[x])\n",
    "print(list3)\n",
    "# Expected result list: [25, 35, 40, 60, 90]"
   ]
  },
  {
   "cell_type": "markdown",
   "metadata": {},
   "source": [
    "# Exercise 3"
   ]
  },
  {
   "cell_type": "markdown",
   "metadata": {},
   "source": [
    "Write a program to count occurrences of all characters within a string. The outcome should be contained in a dictionary."
   ]
  },
  {
   "cell_type": "code",
   "execution_count": 33,
   "metadata": {},
   "outputs": [
    {
     "name": "stdout",
     "output_type": "stream",
     "text": [
      "{'A': 1, 'p': 2, 'l': 1, 'e': 1}\n"
     ]
    }
   ],
   "source": [
    "str1 = \"Apple\"\n",
    "dic = {}\n",
    "for x in str1:\n",
    "    n = str1.count(x)\n",
    "    if x not in dic:\n",
    "        dic[x] = n\n",
    "print(dic)"
   ]
  },
  {
   "cell_type": "markdown",
   "metadata": {},
   "source": [
    "Expected output:\n",
    "{'A': 1, 'p': 2, 'l': 1, 'e': 1}"
   ]
  },
  {
   "cell_type": "markdown",
   "metadata": {},
   "source": [
    "# Exercise 4"
   ]
  },
  {
   "cell_type": "markdown",
   "metadata": {},
   "source": [
    "Print all prime numbers within a range.\n",
    "\n",
    "Note: A Prime Number is a number that cannot be made by multiplying other whole numbers. A prime number is a natural number greater than 1 that is not a product of two smaller natural numbers.\n",
    "\n",
    "Examples:\n",
    "\n",
    "6 is not a prime number because it can be made by 2×3 = 6\n",
    "\n",
    "37 is a prime number because no other whole numbers multiply to make it."
   ]
  },
  {
   "cell_type": "code",
   "execution_count": 51,
   "metadata": {},
   "outputs": [
    {
     "name": "stdout",
     "output_type": "stream",
     "text": [
      "[29, 31, 37, 41, 43, 47]\n"
     ]
    }
   ],
   "source": [
    "# range\n",
    "start = 25\n",
    "end = 50\n",
    "l = list(range(start,end))\n",
    "for x in range(start,end):\n",
    "    for y in range(2,x):\n",
    "        if x%y==0:\n",
    "            l.remove(x)\n",
    "            break\n",
    "print(l)"
   ]
  },
  {
   "cell_type": "markdown",
   "metadata": {},
   "source": [
    "# Exercise 5"
   ]
  },
  {
   "cell_type": "markdown",
   "metadata": {},
   "source": [
    "Write a Python program to use for loop to find the factorial of a given number.\n",
    "\n",
    "The factorial (symbol: !) means multiplying all numbers from the chosen number down to 1.\n",
    "\n",
    "For example, a factorial of 5! is 5 × 4 × 3 × 2 × 1 = 120\n",
    "\n",
    "CHECK SPECIAL CASES: negative numbers and 0!"
   ]
  },
  {
   "cell_type": "code",
   "execution_count": 57,
   "metadata": {},
   "outputs": [
    {
     "name": "stdout",
     "output_type": "stream",
     "text": [
      "121645100408832000\n"
     ]
    }
   ],
   "source": [
    "n = 19\n",
    "y = 1\n",
    "if n > 0:\n",
    "    for x in range(1,(n+1)):\n",
    "        y *=x\n",
    "\n",
    "print(y)\n",
    "    \n",
    "    "
   ]
  }
 ],
 "metadata": {
  "kernelspec": {
   "display_name": "Python 3",
   "language": "python",
   "name": "python3"
  },
  "language_info": {
   "codemirror_mode": {
    "name": "ipython",
    "version": 3
   },
   "file_extension": ".py",
   "mimetype": "text/x-python",
   "name": "python",
   "nbconvert_exporter": "python",
   "pygments_lexer": "ipython3",
   "version": "3.12.6"
  }
 },
 "nbformat": 4,
 "nbformat_minor": 2
}
